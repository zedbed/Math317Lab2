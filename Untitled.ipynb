{
 "cells": [
  {
   "cell_type": "code",
   "execution_count": null,
   "id": "9f079a51-6366-4804-86da-373d2bcee2d6",
   "metadata": {},
   "outputs": [],
   "source": [
    "#Zachary Bédard 261113611"
   ]
  },
  {
   "cell_type": "code",
   "execution_count": null,
   "id": "3fc21798-1d88-49d7-b906-44c233ad6f8e",
   "metadata": {},
   "outputs": [],
   "source": [
    "#QUESTION 1 :\n",
    "\n",
    "\"\"\"\n",
    "Implement a function that computes sin x via the plain power series, that is, without\n",
    "any argument reduction. Study its convergence for different (large and small) values of\n",
    "x, by plotting a graph with n on the horizontal axis and the logarithm of the error on\n",
    "the vertical axis. What does the (average) slope of this graph signify?\n",
    "\"\"\""
   ]
  },
  {
   "cell_type": "code",
   "execution_count": null,
   "id": "e1f765d4-af85-439c-9d85-b32378433276",
   "metadata": {},
   "outputs": [],
   "source": [
    "#QUESTION 2 :\n",
    "\n",
    "\"\"\"\n",
    "Make a version 2.0 of your code for sin x by adding an argument reduction procedure.\n",
    "You need to make some design decisions on the argument reduction method, on how\n",
    "much you want to reduce the argument, etc. Consider several options to reduce the\n",
    "argument, and experimentally compare them with each other, in order to nally pick\n",
    "the best one. Demonstrate the superiority of version 2.0 as compared to version 1.0 on\n",
    "not-so-small arguments.\n",
    "\"\"\""
   ]
  },
  {
   "cell_type": "code",
   "execution_count": null,
   "id": "55000717-f267-4cac-b36e-f1a80980a7b1",
   "metadata": {},
   "outputs": [],
   "source": [
    "#QUESTION 3 :\n",
    "\n",
    "\"\"\"\n",
    "Implement a function that computes ln x for any given positive input. In the same spirit\n",
    "as the preceding 2 questions, study its convergence behaviour, and various argument\n",
    "reduction options.\n",
    "\"\"\""
   ]
  },
  {
   "cell_type": "code",
   "execution_count": null,
   "id": "307fd99c-1e49-49c7-8faa-4eabf76d5237",
   "metadata": {},
   "outputs": [],
   "source": [
    "#QUESTION 4 :\n",
    "\n",
    "\"\"\"\n",
    "Propose several different fast ways of computing ln 3, and compare their speed.\n",
    "\"\"\""
   ]
  },
  {
   "cell_type": "code",
   "execution_count": null,
   "id": "032d46cc-fcce-4e30-bfe8-a1380080bb2a",
   "metadata": {},
   "outputs": [],
   "source": [
    "#PART 2 : Now we will deal with fixed point iterations"
   ]
  },
  {
   "cell_type": "code",
   "execution_count": 37,
   "id": "e9568ed7-9f69-40f0-8322-6f5fef76af06",
   "metadata": {},
   "outputs": [
    {
     "name": "stdout",
     "output_type": "stream",
     "text": [
      "8.660254037844387\n",
      "\n",
      "xi is : 1.4933333333333334\n",
      "yi is : 0.019911111111111112\n",
      "\n",
      "xi is : 2.2177986686419753\n",
      "yi is : 0.029570648915226337\n",
      "\n",
      "xi is : 3.2539744487072033\n",
      "yi is : 0.043386325982762715\n",
      "\n",
      "xi is : 4.6512668769304355\n",
      "yi is : 0.06201689169240581\n",
      "\n",
      "xi is : 6.306054805190655\n",
      "yi is : 0.08408073073587541\n",
      "\n",
      "xi is : 7.787291282701916\n",
      "yi is : 0.10383055043602556\n",
      "\n",
      "xi is : 8.53269570915193\n",
      "yi is : 0.11376927612202575\n",
      "\n",
      "xi is : 8.657449632725738\n",
      "yi is : 0.11543266176967652\n",
      "\n",
      "xi is : 8.660252675787492\n",
      "yi is : 0.11547003567716656\n",
      "\n",
      "xi is : 8.660254037844066\n",
      "yi is : 0.11547005383792089\n",
      "\n"
     ]
    }
   ],
   "source": [
    "#QUESTION 1 :\n",
    "\n",
    "\"\"\"\n",
    "Experimentally compare the performance of Goldschmidt's method and Heron's method\n",
    "for computing square roots. Design an experiment to illustrate the self-correcting be-\n",
    "haviour of Heron's method, and the opposite behaviour of Goldschmidt's method.\n",
    "\"\"\"\n",
    "import math\n",
    "\n",
    "def goldschmidt_sqrt(b):\n",
    "\n",
    "    n = 0 \n",
    "\n",
    "    b_0 = b\n",
    "\n",
    "    Y_0 = 1/b \"\"\"Let Y0 be a suitably good approximation to 1/√b0, such that 1/2 < b0Y 2\n",
    "0 <\n",
    "3/2. Such a Y0 is usually obtained by table lookup or a special hardware\n",
    "instruction [3].\"\"\"\n",
    "\n",
    "    x_0 = b * Y_0\n",
    "    y_0 = Y_0\n",
    "\n",
    "    #########\n",
    "    b_i = b_0\n",
    "\n",
    "    Y_i = Y_0\n",
    "\n",
    "    x_i = x_0\n",
    "    y_i = y_0\n",
    "    \n",
    "    while (n < 10):\n",
    "        n+=1\n",
    "\n",
    "        b_i = b_i * (Y_i ** 2)\n",
    "\n",
    "        Y_i = (3 - b_i)/2\n",
    "\n",
    "        x_i = x_i * Y_i\n",
    "\n",
    "        y_i = y_i * Y_i\n",
    "\n",
    "        print(\"xi is : \" + str(x_i))\n",
    "        print(\"yi is : \" + str(y_i))\n",
    "        print(\"\")\n",
    "        \n",
    "\n",
    "\n",
    "def heron_sqrt(a, precision):\n",
    "\n",
    "    x =  a / 2\n",
    "    \n",
    "    n = 0\n",
    "    while ((x - a/x) > precision ) :\n",
    "\n",
    "        n+=1\n",
    "        x = (x + a/x)/2\n",
    "        print(x)\n",
    "\n",
    "\n",
    "print(math.sqrt(75))\n",
    "print(\"\")\n",
    "#heron_sqrt(17, 0.001)\n",
    "\n",
    "goldschmidt_sqrt(75)\n"
   ]
  },
  {
   "cell_type": "code",
   "execution_count": 33,
   "id": "fc59f2b6-101d-4b45-b5c9-65cd8e268dc7",
   "metadata": {},
   "outputs": [
    {
     "data": {
      "text/plain": [
       "'\\nPropose two different fixed point methods for approximating the smallest positive root of\\nsin x = ex, such that one method is linearly convergent, and the other is quadratically\\nconvergent. Perform experimental tests to show that indeed they have the desired\\nconvergence orders.\\n'"
      ]
     },
     "execution_count": 33,
     "metadata": {},
     "output_type": "execute_result"
    }
   ],
   "source": [
    "#QUESTION 2 :\n",
    "\n",
    "\"\"\"\n",
    "Propose two different fixed point methods for approximating the smallest positive root of\n",
    "sin x = ex, such that one method is linearly convergent, and the other is quadratically\n",
    "convergent. Perform experimental tests to show that indeed they have the desired\n",
    "convergence orders.\n",
    "\"\"\""
   ]
  },
  {
   "cell_type": "code",
   "execution_count": null,
   "id": "e93cdff9-40fb-4587-aede-3024d08222d2",
   "metadata": {},
   "outputs": [],
   "source": [
    "#QUESTION 3 :\n",
    "\n",
    "\"\"\"\n",
    "Recall the triple angle formula\n",
    "cos(3x) = 4(cos(x))^3 − 3 cos(x),\n",
    "which tells us that if we can solve the equation 4(y^3) − 3y = a for any given a ∈ [−1, 1],\n",
    "then we can trisect any angle, meaning that cos( α/3 ) can be inferred from the value of\n",
    "cos α. For the purpose of trisecting angles, design an iterative method to solve the equation 4y3 − 3y = a, where 0 ≤ a ≤ 1 is given.\n",
    "Note that the equation has in general 3 roots, but they are related so that any one of the roots would give full information\n",
    "about the others. Test the convergence speed of your method. Compute sin 20◦ by\n",
    "trisecting the angle 60◦, and compare it to the value you get from using the power series\n",
    "code for sin x from Part 1.\n",
    "\"\"\""
   ]
  },
  {
   "cell_type": "code",
   "execution_count": null,
   "id": "049e075e-ed26-4323-8a4c-b224872a91f3",
   "metadata": {},
   "outputs": [],
   "source": []
  },
  {
   "cell_type": "code",
   "execution_count": null,
   "id": "7b30fba9-5405-4202-a366-1c7c36b9916e",
   "metadata": {},
   "outputs": [],
   "source": []
  },
  {
   "cell_type": "code",
   "execution_count": null,
   "id": "ff78ff7f-6985-490c-a32d-175762b4c854",
   "metadata": {},
   "outputs": [],
   "source": []
  },
  {
   "cell_type": "code",
   "execution_count": null,
   "id": "2d176725-a982-4565-aecf-1cf7a7d8713a",
   "metadata": {},
   "outputs": [],
   "source": []
  },
  {
   "cell_type": "code",
   "execution_count": null,
   "id": "7fdcb2db-41bf-4c1c-8f91-3de4a51d50c2",
   "metadata": {},
   "outputs": [],
   "source": []
  },
  {
   "cell_type": "code",
   "execution_count": null,
   "id": "5bee1afa-7d89-4bd6-89e2-5726509b9e21",
   "metadata": {},
   "outputs": [],
   "source": []
  },
  {
   "cell_type": "code",
   "execution_count": null,
   "id": "4b50a299-caa2-4bc1-b4fc-ee0097b07e73",
   "metadata": {},
   "outputs": [],
   "source": []
  }
 ],
 "metadata": {
  "kernelspec": {
   "display_name": "Python 3 (ipykernel)",
   "language": "python",
   "name": "python3"
  },
  "language_info": {
   "codemirror_mode": {
    "name": "ipython",
    "version": 3
   },
   "file_extension": ".py",
   "mimetype": "text/x-python",
   "name": "python",
   "nbconvert_exporter": "python",
   "pygments_lexer": "ipython3",
   "version": "3.11.5"
  }
 },
 "nbformat": 4,
 "nbformat_minor": 5
}
